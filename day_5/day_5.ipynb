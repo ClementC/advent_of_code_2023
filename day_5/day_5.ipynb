{
 "cells": [
  {
   "cell_type": "code",
   "execution_count": 1,
   "id": "fe4d1886-d88b-4a74-a5bf-e3a60f3e24a9",
   "metadata": {
    "execution": {
     "iopub.execute_input": "2023-12-08T15:30:18.625258Z",
     "iopub.status.busy": "2023-12-08T15:30:18.624608Z",
     "iopub.status.idle": "2023-12-08T15:30:18.663359Z",
     "shell.execute_reply": "2023-12-08T15:30:18.653782Z",
     "shell.execute_reply.started": "2023-12-08T15:30:18.625201Z"
    },
    "jupyter": {
     "source_hidden": true
    }
   },
   "outputs": [],
   "source": [
    "input_ = \"\"\"seeds: 768975 36881621 56868281 55386784 1828225758 1084205557 2956956868 127170752 1117192172 332560644 357791695 129980646 819363529 9145257 993170544 70644734 3213715789 312116873 3107544690 59359615\n",
    "\n",
    "seed-to-soil map:\n",
    "2797638787 1764015146 26675178\n",
    "3378130613 0 34101494\n",
    "388521182 772535426 141493697\n",
    "1148410839 174832460 323494173\n",
    "4259440029 4076987921 35527267\n",
    "1664835130 2610603190 214355271\n",
    "530014879 1680432282 83582864\n",
    "1471905012 758583825 13951601\n",
    "3909335908 4187323696 107643600\n",
    "3834527400 4173068203 14255493\n",
    "2824313965 136499996 38332464\n",
    "191321127 498326633 7266716\n",
    "1562436628 34101494 102398502\n",
    "3224943851 3320680296 153186762\n",
    "4058150677 3747050674 42920787\n",
    "2360258758 2578478063 32125127\n",
    "1485856613 682003810 76580015\n",
    "613597743 1875739628 457683244\n",
    "4016979508 3789971461 35854425\n",
    "3412232107 562825709 61634951\n",
    "4101071464 3825825886 158368565\n",
    "3848782893 4112515188 60553015\n",
    "3119382417 1629353314 51078968\n",
    "1879190401 1555705358 58037106\n",
    "2169686033 2387905338 190572725\n",
    "2900098047 914029123 217063885\n",
    "1071280987 2824958461 77129852\n",
    "3770924949 3984194451 63602451\n",
    "2449927035 2902088313 205430088\n",
    "2740406427 505593349 57232360\n",
    "198587843 1365772019 189933339\n",
    "0 3107518401 191321127\n",
    "3741733930 4047796902 29191019\n",
    "2655357123 1790690324 85049304\n",
    "1937227507 1133313493 232458526\n",
    "2392383885 624460660 57543150\n",
    "2862646429 3298839528 8221502\n",
    "3170461385 2333422872 54482466\n",
    "3117161932 1131093008 2220485\n",
    "2870867931 3307061030 13619266\n",
    "2884487197 1613742464 15610850\n",
    "4052833933 3741733930 5316744\n",
    "\n",
    "soil-to-fertilizer map:\n",
    "4028970075 3670916442 62323047\n",
    "2369466456 2039626615 114411480\n",
    "1849958430 857955699 318236064\n",
    "3393877313 4090328901 50115157\n",
    "2483877936 2154038095 163115765\n",
    "1589335864 2448679033 50786994\n",
    "378911477 2812908636 641955\n",
    "1562596120 1971627164 26739744\n",
    "2168194494 224261755 114905540\n",
    "2837233268 2508892349 45204280\n",
    "3094415439 2813550591 72281454\n",
    "3166696893 1619734477 89254096\n",
    "0 2317153860 40391789\n",
    "1131679423 1771284034 40991112\n",
    "1765319835 1708988573 9045883\n",
    "1365410346 1420078500 197185774\n",
    "2305946785 794436028 63519671\n",
    "2882437548 2691241517 119296423\n",
    "3001733971 3046337498 45651876\n",
    "3643083526 3393877313 47307752\n",
    "379553432 1812275146 28890919\n",
    "1172670535 1206862634 190369115\n",
    "2807083959 1741134725 30149309\n",
    "2694347611 467149827 112736348\n",
    "2646993701 579886175 47353910\n",
    "4091293122 3733239489 203674174\n",
    "1763025041 1718034456 2294794\n",
    "40391789 1998366908 41259707\n",
    "808535136 1176191763 22037784\n",
    "799902049 1198229547 8633087\n",
    "632706106 627240085 167195943\n",
    "3598515708 3936913663 44567818\n",
    "408444351 0 224261755\n",
    "3799238698 3441185065 229731377\n",
    "3443992470 4140444058 154523238\n",
    "376441274 1617264274 2470203\n",
    "1795171193 339167295 54787237\n",
    "830572920 3091989374 301106503\n",
    "81651496 1841166065 130461099\n",
    "212112595 393954532 73195295\n",
    "3255950989 2554096629 137144888\n",
    "3690391278 3981481481 108847420\n",
    "1363039650 2810537940 2370696\n",
    "3047385847 2499466027 9426322\n",
    "285307890 2357545649 91133384\n",
    "2283100034 1397231749 22846751\n",
    "1640122858 2923435315 122902183\n",
    "3056812169 2885832045 37603270\n",
    "1774365718 1720329250 20805475\n",
    "\n",
    "fertilizer-to-water map:\n",
    "4242763083 2459563591 52204213\n",
    "2506579022 1704611330 53532973\n",
    "268946243 855055502 34908994\n",
    "1704611330 3860653042 434314254\n",
    "2640952334 3547869528 81626644\n",
    "1436013703 728008388 21784904\n",
    "0 680695205 47313183\n",
    "140858905 749793292 69300705\n",
    "686187385 489152830 141379201\n",
    "3612022528 2522034035 498682726\n",
    "827566586 959642930 428042082\n",
    "260322784 12467526 8623459\n",
    "2435545592 3789619612 71033430\n",
    "47313183 1387685012 93545722\n",
    "303855237 21090985 382332148\n",
    "2425279361 2511767804 10266231\n",
    "2947118206 2257396248 202167343\n",
    "1457798607 403423133 23432127\n",
    "2138925584 1890202132 286353777\n",
    "1366335269 889964496 69678434\n",
    "1255608668 819093997 35961505\n",
    "210159610 630532031 50163174\n",
    "1291570173 0 12467526\n",
    "2560111995 2176555909 80840339\n",
    "3419426199 3416054902 131814626\n",
    "3149285549 3159639578 110017210\n",
    "2868977092 3081498464 78141114\n",
    "4110705254 1758144303 132057829\n",
    "3551240825 3020716761 60781703\n",
    "2722578978 3269656788 146398114\n",
    "3259302759 3629496172 160123440\n",
    "1304037699 426855260 62297570\n",
    "\n",
    "water-to-light map:\n",
    "1712728062 165708071 30118229\n",
    "994660402 322543075 139832356\n",
    "2666749758 3184731531 182834316\n",
    "3535613929 2585377632 130318231\n",
    "1589771501 643255284 6486180\n",
    "3665932160 773195884 193821728\n",
    "2655704544 2479239619 11045214\n",
    "2970686930 195826300 21859186\n",
    "1596257681 2345480344 116470381\n",
    "2648218599 765709939 7485945\n",
    "267433833 0 38915982\n",
    "701913980 2301280038 4624639\n",
    "2130796669 1543842466 272797567\n",
    "57533669 1275520329 209900164\n",
    "1756207753 3442698892 374588916\n",
    "3859753888 2305904677 39575667\n",
    "1134492758 2809419770 26839161\n",
    "309521113 217685486 8494012\n",
    "433983600 1485420493 20638459\n",
    "1742846291 522451528 13361462\n",
    "1161331919 2715695863 90552609\n",
    "1251884528 967017612 308502717\n",
    "3052622213 2490284833 95092799\n",
    "454622059 2461950725 17288894\n",
    "2472852656 535812990 24122952\n",
    "318015125 649741464 115968475\n",
    "2496975608 3367565847 75133045\n",
    "553952700 3070057156 114674375\n",
    "668627075 1959120081 31105212\n",
    "2992546116 462375431 60076097\n",
    "3147715012 299507329 20253631\n",
    "2574890768 226179498 73327831\n",
    "0 108174402 57533669\n",
    "306349815 2806248472 3171298\n",
    "2887367588 559935942 83319342\n",
    "760862177 2836258931 233798225\n",
    "1560387245 1990225293 29384256\n",
    "3167968643 1816640033 140298355\n",
    "2572108653 319760960 2782115\n",
    "4260952033 4113795026 34015263\n",
    "2849584074 1506058952 37783514\n",
    "2403594236 38915982 69258420\n",
    "706538619 2246956480 54323558\n",
    "4113795026 4147810289 147157007\n",
    "3308266998 2019609549 227346931\n",
    "471910953 3817287808 82041747\n",
    "699732287 1956938388 2181693\n",
    "\n",
    "light-to-temperature map:\n",
    "1642970452 2619648642 320925092\n",
    "871949201 797630676 97655745\n",
    "655931949 2008010966 216017252\n",
    "3785141775 4061613243 12865567\n",
    "4215077801 4197959319 79889495\n",
    "2563411697 1252642831 573187176\n",
    "1254390764 4601171 388579688\n",
    "0 1980893220 27117746\n",
    "3136598873 895286421 241010052\n",
    "3798007342 3785141775 276471468\n",
    "467378984 1136296473 116346358\n",
    "62929167 393180859 404449817\n",
    "583725342 2257865135 72206607\n",
    "58327996 0 4601171\n",
    "1220553847 2224028218 33836917\n",
    "1065490634 1825830007 155063213\n",
    "2157586756 2971783984 405824941\n",
    "1963895544 2330071742 193691212\n",
    "4197959319 4277848814 17118482\n",
    "969604946 2523762954 95885688\n",
    "27117746 2940573734 31210250\n",
    "\n",
    "temperature-to-humidity map:\n",
    "3204530368 2689103462 122673126\n",
    "1097831066 741139709 15277662\n",
    "2587190266 2506197062 28166734\n",
    "2972900803 2149468273 231629565\n",
    "2754733708 3879909767 93747273\n",
    "1118529763 1007376005 639297716\n",
    "591529103 1795771252 224967444\n",
    "1113108728 305315251 5421035\n",
    "2266839735 3973657040 65644628\n",
    "3425464071 2534363796 64415445\n",
    "2332484363 2811776588 254705903\n",
    "3353763689 3525362348 71700382\n",
    "411622859 756417371 179906244\n",
    "2629634484 2381097838 125099224\n",
    "0 1646673721 149097531\n",
    "1912202739 439529310 384078\n",
    "1828879869 221992381 83322870\n",
    "1038488928 310736286 59342138\n",
    "2149468273 3597062730 22900616\n",
    "3731081879 3337447905 173636959\n",
    "2172368889 2598779241 90324221\n",
    "218548417 439913388 193074442\n",
    "3489879516 4053764933 212174931\n",
    "3327203494 3090464996 12096930\n",
    "149097531 370078424 69450886\n",
    "2615357000 3511084864 14277484\n",
    "4064227942 3102561926 230739354\n",
    "3702054447 4265939864 29027432\n",
    "838437176 21940629 200051752\n",
    "3339300424 4039301668 14463265\n",
    "2262693110 3333301280 4146625\n",
    "3904718838 3619963346 159509104\n",
    "2948918298 3066482491 23982505\n",
    "1757827479 936323615 71052390\n",
    "1912586817 632987830 108151879\n",
    "2848480981 3779472450 100437317\n",
    "816496547 0 21940629\n",
    "\n",
    "humidity-to-location map:\n",
    "3394148556 2925849667 56813934\n",
    "4223178672 3844939961 29088809\n",
    "3743018622 3753904164 91035797\n",
    "6295169 0 111018407\n",
    "3175071902 3531111280 47991613\n",
    "4252267481 2883149852 42699815\n",
    "129982843 693964199 99494334\n",
    "229477177 272742930 300412252\n",
    "798562242 793458533 315959887\n",
    "1114522129 680103472 13860727\n",
    "3223063515 3050521430 171085041\n",
    "1574260097 2117833331 253788822\n",
    "691613952 573155182 106948290\n",
    "2250567596 1223353243 43558595\n",
    "2851928754 4027938301 267028995\n",
    "3887810914 1266911838 1671681\n",
    "3725220028 3431759743 17798594\n",
    "1828048919 3449558337 77343652\n",
    "2479857123 3329899124 101860619\n",
    "3889482595 3526901989 4209291\n",
    "3604872021 2982663601 7751828\n",
    "3834054419 2371622153 53756495\n",
    "1905392571 2537974827 345175025\n",
    "2581717742 1324697672 270211012\n",
    "1145914964 1689488198 428345133\n",
    "2294126191 3221606471 108292653\n",
    "3612623849 2425378648 112596179\n",
    "117313576 1109418420 12669267\n",
    "4163072671 2990415429 60106001\n",
    "3893691886 1594908684 94579514\n",
    "0 1122087687 6295169\n",
    "3450962490 3874028770 153909531\n",
    "2402418844 1145914964 77438279\n",
    "3988271400 3579102893 174801271\n",
    "3118957749 1268583519 56114153\n",
    "529889429 111018407 161724523\"\"\""
   ]
  },
  {
   "cell_type": "markdown",
   "id": "1014f598-6d88-4843-97c5-27db8234cc57",
   "metadata": {},
   "source": [
    "# Part 1"
   ]
  },
  {
   "cell_type": "code",
   "execution_count": 2,
   "id": "de7130cb-f322-407d-a5c3-1c728287a529",
   "metadata": {
    "execution": {
     "iopub.execute_input": "2023-12-07T14:49:41.912447Z",
     "iopub.status.busy": "2023-12-07T14:49:41.911450Z",
     "iopub.status.idle": "2023-12-07T14:49:41.919796Z",
     "shell.execute_reply": "2023-12-07T14:49:41.917106Z",
     "shell.execute_reply.started": "2023-12-07T14:49:41.912408Z"
    }
   },
   "outputs": [],
   "source": [
    "# Test input, result should be 35\n",
    "input_ = \"\"\"seeds: 79 14 55 13\n",
    "\n",
    "seed-to-soil map:\n",
    "50 98 2\n",
    "52 50 48\n",
    "\n",
    "soil-to-fertilizer map:\n",
    "0 15 37\n",
    "37 52 2\n",
    "39 0 15\n",
    "\n",
    "fertilizer-to-water map:\n",
    "49 53 8\n",
    "0 11 42\n",
    "42 0 7\n",
    "57 7 4\n",
    "\n",
    "water-to-light map:\n",
    "88 18 7\n",
    "18 25 70\n",
    "\n",
    "light-to-temperature map:\n",
    "45 77 23\n",
    "81 45 19\n",
    "68 64 13\n",
    "\n",
    "temperature-to-humidity map:\n",
    "0 69 1\n",
    "1 0 69\n",
    "\n",
    "humidity-to-location map:\n",
    "60 56 37\n",
    "56 93 4\"\"\""
   ]
  },
  {
   "cell_type": "code",
   "execution_count": 2,
   "id": "bf2f16e7-a418-4364-bf78-9a5119494edc",
   "metadata": {
    "execution": {
     "iopub.execute_input": "2023-12-08T15:30:20.605050Z",
     "iopub.status.busy": "2023-12-08T15:30:20.604650Z",
     "iopub.status.idle": "2023-12-08T15:30:20.636139Z",
     "shell.execute_reply": "2023-12-08T15:30:20.635047Z",
     "shell.execute_reply.started": "2023-12-08T15:30:20.605022Z"
    }
   },
   "outputs": [],
   "source": [
    "import re\n",
    "from tqdm import tqdm"
   ]
  },
  {
   "cell_type": "code",
   "execution_count": 3,
   "id": "d10fc8c2-bd93-4b2b-bc51-486acbba9a25",
   "metadata": {
    "execution": {
     "iopub.execute_input": "2023-12-08T15:30:22.670556Z",
     "iopub.status.busy": "2023-12-08T15:30:22.670132Z",
     "iopub.status.idle": "2023-12-08T15:30:22.675833Z",
     "shell.execute_reply": "2023-12-08T15:30:22.674274Z",
     "shell.execute_reply.started": "2023-12-08T15:30:22.670526Z"
    }
   },
   "outputs": [],
   "source": [
    "class IdentityDict(dict):\n",
    "    def __missing__(self, key): return key"
   ]
  },
  {
   "cell_type": "markdown",
   "id": "518e3ef7-40a5-4c44-9f96-c58a184329a2",
   "metadata": {},
   "source": [
    "Here we are parsing everything, and adding every numbered item to a dictionary."
   ]
  },
  {
   "cell_type": "code",
   "execution_count": 4,
   "id": "5853dafe-2564-4783-b245-a3fe46458d09",
   "metadata": {
    "execution": {
     "iopub.execute_input": "2023-12-08T15:30:26.838884Z",
     "iopub.status.busy": "2023-12-08T15:30:26.838483Z",
     "iopub.status.idle": "2023-12-08T15:30:26.845920Z",
     "shell.execute_reply": "2023-12-08T15:30:26.844353Z",
     "shell.execute_reply.started": "2023-12-08T15:30:26.838856Z"
    }
   },
   "outputs": [],
   "source": [
    "def parse_input_naive(input):\n",
    "    data = {}\n",
    "    input += \"\\n\\n\"\n",
    "    for idx, line in tqdm(enumerate(input.splitlines())):\n",
    "        if idx == 0:\n",
    "            seeds = set(map(int, re.findall(\"([0-9]+)\", line)))\n",
    "            continue\n",
    "        if line.strip().endswith(\"map:\"):\n",
    "            map_name = line.split()[0].replace(\"-\", \"_\")\n",
    "            idx_start = idx + 1\n",
    "        if line.strip() == \"\" and idx > 2:\n",
    "            map_content = input.splitlines()[idx_start: idx]\n",
    "            data[map_name] = IdentityDict()\n",
    "            for l in map_content:\n",
    "                destination_start, source_start, span = list(map(int, l.split()))\n",
    "                for i in range(span):\n",
    "                    data[map_name][source_start + i] = destination_start + i\n",
    "    return seeds, *data.values()"
   ]
  },
  {
   "cell_type": "markdown",
   "id": "38c946c8-a075-4ee3-b267-863b13bf2eb8",
   "metadata": {},
   "source": [
    "The naïve approach doesn't work on the real input, because the computing times are much higher.\n",
    "\n",
    "Let's go for something more efficient, by noticing that we don't have to parse everything, then do a recursive map at every level.\\\n",
    "Instead, we can just compute the result of the current map, and store only this."
   ]
  },
  {
   "cell_type": "code",
   "execution_count": 5,
   "id": "aaf5fcb8-43f3-4064-baf0-91042c5f2cb1",
   "metadata": {
    "execution": {
     "iopub.execute_input": "2023-12-08T15:30:27.535002Z",
     "iopub.status.busy": "2023-12-08T15:30:27.534618Z",
     "iopub.status.idle": "2023-12-08T15:30:27.543018Z",
     "shell.execute_reply": "2023-12-08T15:30:27.541566Z",
     "shell.execute_reply.started": "2023-12-08T15:30:27.534971Z"
    }
   },
   "outputs": [],
   "source": [
    "def parse_input_efficient(input):\n",
    "    input += \"\\n\\n\"\n",
    "    current_mapping = {}\n",
    "    for idx, line in tqdm(enumerate(input.splitlines())):\n",
    "        if idx == 0:\n",
    "            current_keys = set(map(int, re.findall(\"([0-9]+)\", line)))\n",
    "            continue\n",
    "        if line.strip().endswith(\"map:\"):\n",
    "            map_name = line.split()[0].replace(\"-\", \"_\")\n",
    "            idx_start = idx + 1\n",
    "        if line.strip() == \"\" and idx > 2:\n",
    "            map_content = input.splitlines()[idx_start: idx]\n",
    "            current_mapping = {}\n",
    "            for l in map_content:\n",
    "                destination_start, source_start, span = list(map(int, l.split()))\n",
    "                for k in current_keys:\n",
    "                    if k >= source_start and k < source_start + span:\n",
    "                        current_mapping[k] = destination_start + (k - source_start)\n",
    "            for k in current_keys:\n",
    "                if k not in current_mapping:\n",
    "                    current_mapping[k] = k\n",
    "            current_keys = set(current_mapping.values())\n",
    "    return current_mapping.values()"
   ]
  },
  {
   "cell_type": "code",
   "execution_count": 6,
   "id": "9f386ad9-7703-4712-9405-db7fd66bc439",
   "metadata": {
    "execution": {
     "iopub.execute_input": "2023-12-08T15:30:29.087997Z",
     "iopub.status.busy": "2023-12-08T15:30:29.087639Z",
     "iopub.status.idle": "2023-12-08T15:30:29.096547Z",
     "shell.execute_reply": "2023-12-08T15:30:29.095357Z",
     "shell.execute_reply.started": "2023-12-08T15:30:29.087971Z"
    }
   },
   "outputs": [
    {
     "data": {
      "text/plain": [
       "279"
      ]
     },
     "execution_count": 6,
     "metadata": {},
     "output_type": "execute_result"
    }
   ],
   "source": [
    "len(input_.splitlines())"
   ]
  },
  {
   "cell_type": "code",
   "execution_count": 7,
   "id": "2542e6b2-5b90-4b85-b508-b05cd777caa1",
   "metadata": {
    "execution": {
     "iopub.execute_input": "2023-12-08T15:30:29.962673Z",
     "iopub.status.busy": "2023-12-08T15:30:29.961862Z",
     "iopub.status.idle": "2023-12-08T15:30:30.044355Z",
     "shell.execute_reply": "2023-12-08T15:30:30.041905Z",
     "shell.execute_reply.started": "2023-12-08T15:30:29.962631Z"
    }
   },
   "outputs": [
    {
     "name": "stderr",
     "output_type": "stream",
     "text": [
      "280it [00:00, 46925.53it/s]\n"
     ]
    },
    {
     "data": {
      "text/plain": [
       "57075758"
      ]
     },
     "execution_count": 7,
     "metadata": {},
     "output_type": "execute_result"
    }
   ],
   "source": [
    "min(parse_input_efficient(input_))"
   ]
  },
  {
   "cell_type": "code",
   "execution_count": null,
   "id": "dc473de3-a756-44b4-8fdb-2c51efd92275",
   "metadata": {},
   "outputs": [],
   "source": []
  },
  {
   "cell_type": "markdown",
   "id": "cd2988e2-c72c-46d6-b871-ebae6ab6b0a2",
   "metadata": {},
   "source": [
    "# Part 2"
   ]
  },
  {
   "cell_type": "markdown",
   "id": "214d4f90-e0a4-4022-9b42-e6a91d21b5ac",
   "metadata": {},
   "source": [
    "Again, here we have to change our strategy, since at the begining we don't have individual seed numbers, but whole ranges, and that changes the scale of the problem.\n",
    "\n",
    "So I implemented a strategy based on intervals, after noticing that it's much more efficient than to process every number in a range.\n",
    "\n",
    "The code is starting to get quite ugly, since when we transform an interval with a mapping, it can result on several different intervals at the end."
   ]
  },
  {
   "cell_type": "code",
   "execution_count": 8,
   "id": "c516b753-df6d-44ae-8921-b53cc9e2c61f",
   "metadata": {
    "execution": {
     "iopub.execute_input": "2023-12-08T15:30:32.555618Z",
     "iopub.status.busy": "2023-12-08T15:30:32.555049Z",
     "iopub.status.idle": "2023-12-08T15:30:32.573923Z",
     "shell.execute_reply": "2023-12-08T15:30:32.572295Z",
     "shell.execute_reply.started": "2023-12-08T15:30:32.555573Z"
    }
   },
   "outputs": [],
   "source": [
    "def transform_interval_with_mapping(interval, current_mapping):\n",
    "    all_intervals = [interval]\n",
    "    new_intervals = set()\n",
    "\n",
    "    while len(all_intervals) > 0:\n",
    "        interval = all_intervals.pop()\n",
    "        transformed_interval = None\n",
    "        #print(f\"{interval=}\")\n",
    "        #transformed = []\n",
    "        for source, destination in current_mapping.items():\n",
    "            # Disjoint case\n",
    "            if interval[1] < source[0] or interval[0] > source[1]:\n",
    "                continue\n",
    "            elif interval[1] >= source[0] and interval[1] <= source[1] and interval[0] < source[0]:\n",
    "                overlap_interval = (source[0], interval[1])\n",
    "                transformed_interval = (destination[0], destination[0] + interval[1] - source[0])\n",
    "                remaining_interval = (interval[0], source[0] - 1)\n",
    "                new_intervals.add(transformed_interval)\n",
    "                #transformed.append(transformed_interval)\n",
    "                #print(f\"overlap 1: {interval=} {source=} {remaining_interval=} {overlap_interval=} {transformed_interval=}\")\n",
    "                all_intervals.append(remaining_interval)\n",
    "                break\n",
    "            # Inside calse\n",
    "            elif interval[0] >= source [0] and interval[1] <= source[1]:\n",
    "                transformed_interval = (destination[0] + interval[0] - source[0], destination[0] + interval[1] - source[0])\n",
    "                new_intervals.add(transformed_interval)\n",
    "                #transformed.append(transformed_interval)\n",
    "                break\n",
    "            elif interval[0] >= source[0] and interval[0] <= source[1] and interval[1] >= source[1]:\n",
    "                overlap_interval = (interval[0], source[1])\n",
    "                transformed_interval = (destination[0] + interval[0] - source[0], destination[1])\n",
    "                remaining_interval = (interval[0], source[0] - 1)\n",
    "                new_intervals.add(transformed_interval)\n",
    "                #transformed.append(transformed_interval)\n",
    "                if interval[1] > source[1]:\n",
    "                    remaining_interval = (source[1] + 1, interval[1])\n",
    "                    #print(f\"overlap 1: {interval=} {source=} {remaining_interval=} {overlap_interval=} {transformed_interval=}\")\n",
    "                    all_intervals.append(remaining_interval)\n",
    "                else:\n",
    "                    #print(f\"overlap 1: {interval=} {source=} {overlap_interval=} {transformed_interval=}\")\n",
    "                    continue\n",
    "                break\n",
    "\n",
    "        if transformed_interval is None:\n",
    "            new_intervals.add(interval)\n",
    "\n",
    "    #print(f\"{new_intervals=}\")\n",
    "\n",
    "    return new_intervals"
   ]
  },
  {
   "cell_type": "code",
   "execution_count": 9,
   "id": "8a8a7332-0116-4577-bc37-ca8b608eddc5",
   "metadata": {
    "execution": {
     "iopub.execute_input": "2023-12-08T15:30:33.149639Z",
     "iopub.status.busy": "2023-12-08T15:30:33.149125Z",
     "iopub.status.idle": "2023-12-08T15:30:33.160402Z",
     "shell.execute_reply": "2023-12-08T15:30:33.158920Z",
     "shell.execute_reply.started": "2023-12-08T15:30:33.149611Z"
    }
   },
   "outputs": [],
   "source": [
    "def parse_input_efficient(input, debug=False):\n",
    "    input += \"\\n\\n\"\n",
    "    current_mapping = {}\n",
    "    for idx, line in tqdm(enumerate(input.splitlines())):\n",
    "        if idx == 0:\n",
    "            seeds_info = list(map(int, re.findall(\"([0-9]+)\", line)))\n",
    "            current_intervals = set((seeds_info[2*i], seeds_info[2*i] + seeds_info[2*i + 1] - 1) for i in range(len(seeds_info) // 2))\n",
    "            #print(f\"{current_intervals=}\")\n",
    "            continue\n",
    "        if line.strip().endswith(\"map:\"):\n",
    "            map_name = line.split()[0].replace(\"-\", \"_\")\n",
    "            idx_start = idx + 1\n",
    "        if line.strip() == \"\" and idx > 2:\n",
    "            map_content = input.splitlines()[idx_start: idx]\n",
    "            current_mapping = {}\n",
    "            for l in map_content:\n",
    "                destination_start, source_start, span = list(map(int, l.split()))\n",
    "                current_mapping[(source_start, source_start + span - 1)] = (destination_start, destination_start + span - 1)\n",
    "            current_mapping = dict(sorted(current_mapping.items(), key=lambda x: x[0][0]))\n",
    "            #print(f\"{current_mapping=}\")\n",
    "            \n",
    "            new_intervals = set()\n",
    "            for interval in current_intervals:\n",
    "                new_intervals.update(transform_interval_with_mapping(interval, current_mapping))\n",
    "                #print(\"\")\n",
    "            \n",
    "            #print(\"--\")\n",
    "            current_intervals = new_intervals\n",
    "            #print(f\"{current_intervals=}\")\n",
    "            \n",
    "    return current_intervals"
   ]
  },
  {
   "cell_type": "code",
   "execution_count": 10,
   "id": "11749f3d-3dd1-4d67-973a-4c5038f17880",
   "metadata": {
    "execution": {
     "iopub.execute_input": "2023-12-08T15:30:34.128858Z",
     "iopub.status.busy": "2023-12-08T15:30:34.128381Z",
     "iopub.status.idle": "2023-12-08T15:30:34.136510Z",
     "shell.execute_reply": "2023-12-08T15:30:34.134875Z",
     "shell.execute_reply.started": "2023-12-08T15:30:34.128829Z"
    }
   },
   "outputs": [
    {
     "data": {
      "text/plain": [
       "{(53, 56), (61, 69)}"
      ]
     },
     "execution_count": 10,
     "metadata": {},
     "output_type": "execute_result"
    }
   ],
   "source": [
    "transform_interval_with_mapping((57, 69),\n",
    "                                {(53, 60): (49, 56),\n",
    "                                 (11, 52): (0, 41),\n",
    "                                 (0, 6): (42, 48),\n",
    "                                 (7, 10): (57, 60)})"
   ]
  },
  {
   "cell_type": "code",
   "execution_count": 11,
   "id": "1f4916f1-3838-4851-be4e-9380fd5f4c59",
   "metadata": {
    "execution": {
     "iopub.execute_input": "2023-12-08T15:30:36.573439Z",
     "iopub.status.busy": "2023-12-08T15:30:36.573004Z",
     "iopub.status.idle": "2023-12-08T15:30:36.609046Z",
     "shell.execute_reply": "2023-12-08T15:30:36.591970Z",
     "shell.execute_reply.started": "2023-12-08T15:30:36.573410Z"
    }
   },
   "outputs": [
    {
     "name": "stderr",
     "output_type": "stream",
     "text": [
      "280it [00:00, 49991.70it/s]\n"
     ]
    },
    {
     "data": {
      "text/plain": [
       "(31161857, 38647801)"
      ]
     },
     "execution_count": 11,
     "metadata": {},
     "output_type": "execute_result"
    }
   ],
   "source": [
    "min(parse_input_efficient(input_))"
   ]
  },
  {
   "cell_type": "code",
   "execution_count": null,
   "id": "45efad7a-f8db-4b78-aa9f-3a8bea67f845",
   "metadata": {},
   "outputs": [],
   "source": []
  },
  {
   "cell_type": "code",
   "execution_count": null,
   "id": "6a352688-0d9f-4fce-888a-7709da896228",
   "metadata": {},
   "outputs": [],
   "source": []
  },
  {
   "cell_type": "code",
   "execution_count": null,
   "id": "8dcdbb9a-25e4-4314-8c1d-9f7f32fffb4f",
   "metadata": {},
   "outputs": [],
   "source": []
  }
 ],
 "metadata": {
  "kernelspec": {
   "display_name": "Python 3 (ipykernel)",
   "language": "python",
   "name": "python3"
  },
  "language_info": {
   "codemirror_mode": {
    "name": "ipython",
    "version": 3
   },
   "file_extension": ".py",
   "mimetype": "text/x-python",
   "name": "python",
   "nbconvert_exporter": "python",
   "pygments_lexer": "ipython3",
   "version": "3.12.0"
  }
 },
 "nbformat": 4,
 "nbformat_minor": 5
}
